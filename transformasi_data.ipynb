{
  "nbformat": 4,
  "nbformat_minor": 0,
  "metadata": {
    "colab": {
      "provenance": [],
      "authorship_tag": "ABX9TyNcx8x4oeC2gfklTyJ+M/JQ",
      "include_colab_link": true
    },
    "kernelspec": {
      "name": "python3",
      "display_name": "Python 3"
    },
    "language_info": {
      "name": "python"
    }
  },
  "cells": [
    {
      "cell_type": "markdown",
      "metadata": {
        "id": "view-in-github",
        "colab_type": "text"
      },
      "source": [
        "<a href=\"https://colab.research.google.com/github/emRival/tugas_prepocessing/blob/main/transformasi_data.ipynb\" target=\"_parent\"><img src=\"https://colab.research.google.com/assets/colab-badge.svg\" alt=\"Open In Colab\"/></a>"
      ]
    },
    {
      "cell_type": "markdown",
      "source": [
        "# Import Pandas and MinMaxScaler"
      ],
      "metadata": {
        "id": "LYkb_NCmHifq"
      }
    },
    {
      "cell_type": "code",
      "execution_count": null,
      "metadata": {
        "id": "ZTmMnh0pssbg"
      },
      "outputs": [],
      "source": [
        "# Import libraries\n",
        "import pandas as pd\n",
        "from sklearn.preprocessing import MinMaxScaler"
      ]
    },
    {
      "cell_type": "markdown",
      "source": [
        "# Import Drive, mount dataset.csv an load form google Drive\n"
      ],
      "metadata": {
        "id": "gEyiv8QEH2DO"
      }
    },
    {
      "cell_type": "code",
      "source": [
        "from google.colab import drive\n",
        "drive.mount('/content/drive')"
      ],
      "metadata": {
        "colab": {
          "base_uri": "https://localhost:8080/"
        },
        "id": "jPHW6v_PteAH",
        "outputId": "ca166a21-aa43-46a7-e152-a28855001605"
      },
      "execution_count": null,
      "outputs": [
        {
          "output_type": "stream",
          "name": "stdout",
          "text": [
            "Mounted at /content/drive\n"
          ]
        }
      ]
    },
    {
      "cell_type": "code",
      "source": [
        "# Load data from drive\n",
        "data = pd.read_csv('/content/drive/My Drive/Colab Notebooks/Transformasi Data Hepatitis/Life Expectancy Data.csv')"
      ],
      "metadata": {
        "id": "RKMxjpiks2Ek"
      },
      "execution_count": null,
      "outputs": []
    },
    {
      "cell_type": "markdown",
      "source": [
        "# Replace NaN data to 0\n"
      ],
      "metadata": {
        "id": "LORiuIHnIOhG"
      }
    },
    {
      "cell_type": "code",
      "source": [
        "# Ganti kolom dengan hasil fillna\n",
        "data['Hepatitis B'] = data['Hepatitis B'].fillna(0)\n"
      ],
      "metadata": {
        "id": "bia1ZwPItCS5"
      },
      "execution_count": null,
      "outputs": []
    },
    {
      "cell_type": "code",
      "source": [
        "print(data.columns)"
      ],
      "metadata": {
        "colab": {
          "base_uri": "https://localhost:8080/"
        },
        "id": "h_kL_soevBKy",
        "outputId": "ae408e3a-a858-474d-ddb4-d6ea486ac3a6"
      },
      "execution_count": null,
      "outputs": [
        {
          "output_type": "stream",
          "name": "stdout",
          "text": [
            "Index(['Country', 'Year', 'Status', 'Life expectancy ', 'Adult Mortality',\n",
            "       'infant deaths', 'Alcohol', 'percentage expenditure', 'Hepatitis B',\n",
            "       'Measles ', ' BMI ', 'under-five deaths ', 'Polio', 'Total expenditure',\n",
            "       'Diphtheria ', ' HIV/AIDS', 'GDP', 'Population',\n",
            "       ' thinness  1-19 years', ' thinness 5-9 years',\n",
            "       'Income composition of resources', 'Schooling'],\n",
            "      dtype='object')\n"
          ]
        }
      ]
    },
    {
      "cell_type": "markdown",
      "source": [
        "# Erase space at col name"
      ],
      "metadata": {
        "id": "JTCv4K8pJi6h"
      }
    },
    {
      "cell_type": "code",
      "source": [
        "# Hapus spasi tambahan pada nama kolom\n",
        "data.columns = data.columns.str.strip()"
      ],
      "metadata": {
        "id": "2NE9bn-8vdkq"
      },
      "execution_count": null,
      "outputs": []
    },
    {
      "cell_type": "code",
      "source": [
        "print(data.head())"
      ],
      "metadata": {
        "colab": {
          "base_uri": "https://localhost:8080/"
        },
        "id": "CTdp5_wKvjSt",
        "outputId": "84c1eb20-f2ed-48d0-b306-9b6ad974530c"
      },
      "execution_count": null,
      "outputs": [
        {
          "output_type": "stream",
          "name": "stdout",
          "text": [
            "       Country  Year      Status  Life expectancy  Adult Mortality  \\\n",
            "0  Afghanistan  2015  Developing         0.544592            263.0   \n",
            "1  Afghanistan  2014  Developing         0.447818            271.0   \n",
            "2  Afghanistan  2013  Developing         0.447818            268.0   \n",
            "3  Afghanistan  2012  Developing         0.440228            272.0   \n",
            "4  Afghanistan  2011  Developing         0.434535            275.0   \n",
            "\n",
            "   infant deaths  Alcohol  percentage expenditure  Hepatitis B  Measles  ...  \\\n",
            "0             62     0.01               71.279624     0.653061     1154  ...   \n",
            "1             64     0.01               73.523582     0.622449      492  ...   \n",
            "2             66     0.01               73.219243     0.642857      430  ...   \n",
            "3             69     0.01               78.184215     0.673469     2787  ...   \n",
            "4             71     0.01                7.097109     0.683673     3013  ...   \n",
            "\n",
            "   Polio  Total expenditure  Diphtheria  HIV/AIDS       GDP  Population  \\\n",
            "0    6.0               8.16        65.0       0.1  0.004889  33736494.0   \n",
            "1   58.0               8.18        62.0       0.1  0.005127    327582.0   \n",
            "2   62.0               8.13        64.0       0.1  0.005287  31731688.0   \n",
            "3   67.0               8.52        67.0       0.1  0.005608   3696958.0   \n",
            "4   68.0               7.87        68.0       0.1  0.000519   2978599.0   \n",
            "\n",
            "   thinness  1-19 years  thinness 5-9 years  Income composition of resources  \\\n",
            "0                  17.2                17.3                            0.479   \n",
            "1                  17.5                17.5                            0.476   \n",
            "2                  17.7                17.7                            0.470   \n",
            "3                  17.9                18.0                            0.463   \n",
            "4                  18.2                18.2                            0.454   \n",
            "\n",
            "   Schooling  \n",
            "0       10.1  \n",
            "1       10.0  \n",
            "2        9.9  \n",
            "3        9.8  \n",
            "4        9.5  \n",
            "\n",
            "[5 rows x 22 columns]\n"
          ]
        }
      ]
    },
    {
      "cell_type": "markdown",
      "source": [
        "# Transformation data Hepatitis B, Life Expectancty and GDP"
      ],
      "metadata": {
        "id": "XwQPhGaOJver"
      }
    },
    {
      "cell_type": "code",
      "source": [
        "# 2. Transformation: Normalize numeric columns\n",
        "numeric_cols = ['Hepatitis B', 'Life expectancy', 'GDP']\n",
        "scaler = MinMaxScaler()\n",
        "data[numeric_cols] = scaler.fit_transform(data[numeric_cols])"
      ],
      "metadata": {
        "id": "3uh23RVKuzMj"
      },
      "execution_count": null,
      "outputs": []
    },
    {
      "cell_type": "code",
      "source": [
        "# 4. Subsetting: Focus on relevant columns\n",
        "subset_data = data[['Country','Hepatitis B','Life expectancy','GDP','Year']]\n"
      ],
      "metadata": {
        "id": "XwQqp7tMwY0q"
      },
      "execution_count": null,
      "outputs": []
    },
    {
      "cell_type": "markdown",
      "source": [
        "# Print Transformed Data"
      ],
      "metadata": {
        "id": "WPLbd_w3KSMo"
      }
    },
    {
      "cell_type": "code",
      "source": [
        "# Check the transformed data\n",
        "print(subset_data.head(100))"
      ],
      "metadata": {
        "colab": {
          "base_uri": "https://localhost:8080/"
        },
        "id": "Zgnr1R83wbdJ",
        "outputId": "ec9089bb-c9be-4de5-d611-20329ac70fa9"
      },
      "execution_count": null,
      "outputs": [
        {
          "output_type": "stream",
          "name": "stdout",
          "text": [
            "        Country  Hepatitis B  Life expectancy       GDP  Year\n",
            "0   Afghanistan     0.653061         0.544592  0.004889  2015\n",
            "1   Afghanistan     0.622449         0.447818  0.005127  2014\n",
            "2   Afghanistan     0.642857         0.447818  0.005287  2013\n",
            "3   Afghanistan     0.673469         0.440228  0.005608  2012\n",
            "4   Afghanistan     0.683673         0.434535  0.000519  2011\n",
            "..          ...          ...              ...       ...   ...\n",
            "95    Argentina     0.815719         0.717268  0.064341  2000\n",
            "96      Armenia     0.948980         0.730550  0.003088  2015\n",
            "97      Armenia     0.938776         0.726755  0.033507  2014\n",
            "98      Armenia     0.959184         0.722960  0.032239  2013\n",
            "99      Armenia     0.959184         0.722960  0.030907  2012\n",
            "\n",
            "[100 rows x 5 columns]\n"
          ]
        }
      ]
    },
    {
      "cell_type": "code",
      "source": [
        "# Menampilkan beberapa baris pertama untuk melihat negara dan data terkait\n",
        "print(data[['Country', 'Hepatitis B', 'Year']].head())\n"
      ],
      "metadata": {
        "id": "pl1ZS-bnysZK",
        "outputId": "b06fe01c-c075-4ec4-8d72-a6daa96777c8",
        "colab": {
          "base_uri": "https://localhost:8080/"
        }
      },
      "execution_count": null,
      "outputs": [
        {
          "output_type": "stream",
          "name": "stdout",
          "text": [
            "       Country  Hepatitis B  Year\n",
            "0  Afghanistan     0.653061  2015\n",
            "1  Afghanistan     0.622449  2014\n",
            "2  Afghanistan     0.642857  2013\n",
            "3  Afghanistan     0.673469  2012\n",
            "4  Afghanistan     0.683673  2011\n"
          ]
        }
      ]
    }
  ]
}